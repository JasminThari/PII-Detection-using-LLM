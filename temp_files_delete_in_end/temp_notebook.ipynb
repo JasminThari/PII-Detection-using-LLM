{
 "cells": [
  {
   "cell_type": "code",
   "execution_count": 4,
   "metadata": {},
   "outputs": [
    {
     "name": "stderr",
     "output_type": "stream",
     "text": [
      "/work3/s204090/PII-Detection-using-LLM/PII_env/lib/python3.10/site-packages/tqdm/auto.py:21: TqdmWarning: IProgress not found. Please update jupyter and ipywidgets. See https://ipywidgets.readthedocs.io/en/stable/user_install.html\n",
      "  from .autonotebook import tqdm as notebook_tqdm\n"
     ]
    }
   ],
   "source": [
    "import sys\n",
    "import json\n",
    "import os\n",
    "import pandas as pd\n",
    "from omegaconf import OmegaConf\n",
    "#import timm\n",
    "\n",
    "from datasets import load_dataset, load_from_disk\n",
    "from transformers import (AutoTokenizer, \n",
    "                          AutoModelForTokenClassification, \n",
    "                          DataCollatorForTokenClassification, \n",
    "                          TrainingArguments, \n",
    "                          Trainer,\n",
    "                          pipeline,)\n",
    "import evaluate\n",
    "import torch\n",
    "import numpy as np\n",
    "import datetime"
   ]
  },
  {
   "cell_type": "code",
   "execution_count": 9,
   "metadata": {},
   "outputs": [],
   "source": [
    "#load a datadict from folder\n",
    "\n",
    "#data_dict = load_from_disk(\"trained_models/config_1/2024-04-17_10-19-10/tokenized_data\")"
   ]
  },
  {
   "cell_type": "code",
   "execution_count": 5,
   "metadata": {},
   "outputs": [],
   "source": [
    "model_folder = \"trained_models/config_1/2024-04-17_10-19-10/best_model\"\n",
    "\n",
    "tokenizer = AutoTokenizer.from_pretrained(\"distilbert/distilbert-base-uncased\")\n",
    "classifier = pipeline(\"ner\", model=model_folder, tokenizer=tokenizer)\n",
    "#classifier(text)"
   ]
  },
  {
   "cell_type": "code",
   "execution_count": 6,
   "metadata": {},
   "outputs": [],
   "source": [
    "text = \"Design Thinking for innovation reflexion-Avril 2021-Nathalie Sylla\\n\\nChallenge & selection\\n\\nThe tool I use to help all stakeholders finding their way through the complexity of a project is the  mind map.\\n\\nWhat exactly is a mind map? According to the definition of Buzan T. and Buzan B. (1999, Dessine-moi  l'intelligence. Paris: Les \\u00c9ditions d'Organisation.), the mind map (or heuristic diagram) is a graphic  representation technique that follows the natural functioning of the mind and allows the brain's  potential to be released.\"\n",
    "text_2 = \"Gandhi Institute of Technology and Management   Higher School of Economics\\n\\nEssay \\u21161\\n\\non Economics course\\n\\nTopic 7\\n\\n\\u201cWhy are people sometimes altruistic?\\u201d\\n\\nStefano Lovato\\n\\nMDI-191 student\\n\\nSathyabama\\n\\nApril, 2020\\n\\nIn many classical economic theories, it is common to determine a human, as a very egoistic  creature. Adam Smith\\u2019s books (but not all of them)\"\n"
   ]
  },
  {
   "cell_type": "code",
   "execution_count": null,
   "metadata": {},
   "outputs": [],
   "source": [
    "# different way to get the predictions\n",
    "inputs = tokenizer(text, return_tensors=\"pt\")\n",
    "# inspect the tokens\n",
    "tokenizer.convert_ids_to_tokens(inputs[\"input_ids\"][0])\n",
    "model = AutoModelForTokenClassification.from_pretrained(model_folder)\n",
    "with torch.no_grad():\n",
    "    logits = model(**inputs).logits\n",
    "\n",
    "predictions = torch.argmax(logits, dim=2)\n",
    "predicted_token_class = [model.config.id2label[t.item()] for t in predictions[0]]\n",
    "#predicted_token_class"
   ]
  }
 ],
 "metadata": {
  "kernelspec": {
   "display_name": "PII_env",
   "language": "python",
   "name": "python3"
  },
  "language_info": {
   "codemirror_mode": {
    "name": "ipython",
    "version": 3
   },
   "file_extension": ".py",
   "mimetype": "text/x-python",
   "name": "python",
   "nbconvert_exporter": "python",
   "pygments_lexer": "ipython3",
   "version": "3.10.13"
  }
 },
 "nbformat": 4,
 "nbformat_minor": 2
}
